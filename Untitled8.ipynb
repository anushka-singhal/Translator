{
 "cells": [
  {
   "cell_type": "code",
   "execution_count": null,
   "id": "4e4f1d59",
   "metadata": {},
   "outputs": [
    {
     "name": "stdout",
     "output_type": "stream",
     "text": [
      "Enter the text to translate: how\n"
     ]
    }
   ],
   "source": [
    "import requests\n",
    "\n",
    "def translate_text(text, target_language):\n",
    "    api_key = \"YOUR_API_KEY\"  # Replace with your Google Cloud Translation API key\n",
    "    endpoint = \"https://translation.googleapis.com/language/translate/v2\"\n",
    "    params = {\n",
    "        \"q\": text,\n",
    "        \"target\": target_language,\n",
    "        \"key\": api_key\n",
    "    }\n",
    "    response = requests.get(endpoint, params=params)\n",
    "    translation = response.json()[\"data\"][\"translations\"][0][\"translatedText\"]\n",
    "    return translation\n",
    "\n",
    "def main():\n",
    "    text = input(\"Enter the text to translate: \")\n",
    "    target_language = input(\"Enter the target language: \")\n",
    "    translated_text = translate_text(text, target_language)\n",
    "    print(\"Translation:\", translated_text)\n",
    "\n",
    "if __name__ == \"__main__\":\n",
    "    main()\n"
   ]
  },
  {
   "cell_type": "code",
   "execution_count": null,
   "id": "3fee023a",
   "metadata": {},
   "outputs": [],
   "source": []
  }
 ],
 "metadata": {
  "kernelspec": {
   "display_name": "Python 3 (ipykernel)",
   "language": "python",
   "name": "python3"
  },
  "language_info": {
   "codemirror_mode": {
    "name": "ipython",
    "version": 3
   },
   "file_extension": ".py",
   "mimetype": "text/x-python",
   "name": "python",
   "nbconvert_exporter": "python",
   "pygments_lexer": "ipython3",
   "version": "3.9.13"
  }
 },
 "nbformat": 4,
 "nbformat_minor": 5
}
